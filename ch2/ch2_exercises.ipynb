{
 "cells": [
  {
   "cell_type": "markdown",
   "metadata": {
    "colab_type": "text",
    "id": "g8YjC5DxTO8M"
   },
   "source": [
    "# [OGprimer chapter 2](https://github.com/OpenRG/OGprimer/blob/master/Chapters/OGtext_ch02.pdf) exercises\n",
    "\n",
    "## 2.6 Calibration\n",
    "\n",
    "Use the following parameterization of the model for the problems below. Because agents live\n",
    "for only three periods, assume that each period of life is 20 years. If the annual discount\n",
    "factor is estimated to be 0.96, then the 20-year discount factor is β = 0.9620 = 0.442.\n",
    "Let the annual depreciation rate of capital be 0.05. Then the 20-year depreciation rate is\n",
    "δ = 1 − (1 − 0.05)20 = 0.6415. Let the coefficient of relative risk aversion be σ = 3, let\n",
    "the productivity scale parameter of firms be A = 1, and let the capital share of income be\n",
    "α = 0.35."
   ]
  },
  {
   "cell_type": "code",
   "execution_count": 1,
   "metadata": {},
   "outputs": [],
   "source": [
    "run ch2_funs.py"
   ]
  },
  {
   "cell_type": "code",
   "execution_count": 2,
   "metadata": {
    "colab": {},
    "colab_type": "code",
    "id": "-8QPbDuHTnQm"
   },
   "outputs": [],
   "source": [
    "# \"Because agents live for only three periods, assume that each period of life\n",
    "#  is 20 years.\"\n",
    "PERIOD_YEARS = 20\n",
    "# If the annual discount factor is estimated to be 0.96...\n",
    "ANNUAL_DISCOUNT = 0.96\n",
    "# ...then the 20-year discount factor is 0.96^20 = 0.442.\n",
    "BETA = 0.442\n",
    "# Let the annual depreciation rate of capital be 0.05.\n",
    "ANNUAL_DEPR = 0.05\n",
    "# Then the 20-year depreciation rate is 1 - (1 - 0.05)^20 = 0.6415.\n",
    "DELTA = 0.6415\n",
    "# Let the coefficient of relative risk aversion be 3,\n",
    "SIGMA = 3\n",
    "# let the productivityscale parameter of firms be A = 1,\n",
    "A = 1\n",
    "# and let the capital share of income be 0.35.\n",
    "ALPHA = 0.35\n",
    "# Assuming the same labor vector as section 2.1.\n",
    "NVEC = [1, 1, 0.2]\n",
    "L = sum(NVEC)"
   ]
  },
  {
   "cell_type": "markdown",
   "metadata": {
    "colab_type": "text",
    "id": "GUCRQ9eKUnBF"
   },
   "source": [
    "## Exercise 2.1\n",
    "Using the calibration from Section 2.6, write a Python function named `feasible()` that has the following form,\n",
    "```\n",
    "b_cnstr, c_cnstr, K_cnstr = feasible(f_params, bvec_guess)\n",
    "```\n",
    "where the inputs are a tuple `f_params = (nvec, A, alpha, delta)`, and a guess for the steady-state savings vector `bvec_guess = np.array([scalar, scalar])`.\n",
    "The outputs should be Boolean (`True` or `False`, `1` or `0`)\n",
    "vectors of lengths 2, 3, and 1, respectively.\n",
    "`K_cnstr` should be a singleton Boolean that equals `True` if $K \\leq 0$ for the given `f_params` and `bvec_guess`.\n",
    "\n",
    "The object `c_cnstr` should be a length-3 Boolean vector in which the $s$th element equals `True` if $c_s \\leq 0$\n",
    "given `f_params` and `bvec_guess`.\n",
    "And `b_cnstr` is a length-2 Boolean vector that denotes which element of `bvec_guess` is likely responsible for any of the consumption nonnegativity constraint violations identified in `c_cnstr`.\n",
    "If the first element of `c_cnstr` is `True`, then the first element of `b_cnstr` is `True`.\n",
    "If the second element of `c_cnstr` is `True`, then both elements of `b_cnstr` are `True`.\n",
    "And if the last element of `c_cnstr` is `True`, then the last element of `b_cnstr` is `True`.\n",
    "\n",
    "*Comment: Shrinking 3-element `c_cnstr` down to 2-element `b_cnstr` was confusing. Is this extra parsimony necessary?*\n",
    "\n",
    "*Question: Should it be $c_s \\leq 0$ or $c_s < 0$?*"
   ]
  },
  {
   "cell_type": "markdown",
   "metadata": {
    "colab_type": "text",
    "id": "uv7m9PB8ZqJz"
   },
   "source": [
    "## 2.1a\n",
    "\n",
    "Which, if any, of the constraints is violated if you choose an initial guess for steady-state savings of `bvec_guess = np.array([1.0, 1.2])`?"
   ]
  },
  {
   "cell_type": "code",
   "execution_count": 3,
   "metadata": {
    "colab": {},
    "colab_type": "code",
    "id": "Vp-4yJYTf_5J"
   },
   "outputs": [],
   "source": [
    "F_PARAMS = (NVEC, A, ALPHA, DELTA)"
   ]
  },
  {
   "cell_type": "code",
   "execution_count": 4,
   "metadata": {
    "colab": {
     "base_uri": "https://localhost:8080/",
     "height": 35
    },
    "colab_type": "code",
    "id": "L6k5xhPBZyrv",
    "outputId": "75fbd5c0-6cd4-4a10-c46e-c5e8b97ac9e7"
   },
   "outputs": [
    {
     "data": {
      "text/plain": [
       "([True, False], [True, False, False], False)"
      ]
     },
     "execution_count": 4,
     "metadata": {},
     "output_type": "execute_result"
    }
   ],
   "source": [
    "feasible(F_PARAMS, np.array([1.0, 1.2]))"
   ]
  },
  {
   "cell_type": "code",
   "execution_count": 5,
   "metadata": {
    "colab": {
     "base_uri": "https://localhost:8080/",
     "height": 35
    },
    "colab_type": "code",
    "id": "aOvTN-ASwrU5",
    "outputId": "cb1db989-7fcd-42cc-8fc5-ea1f036f7606"
   },
   "outputs": [
    {
     "data": {
      "text/plain": [
       "True"
      ]
     },
     "execution_count": 5,
     "metadata": {},
     "output_type": "execute_result"
    }
   ],
   "source": [
    "infeasible(F_PARAMS, np.array([1.0, 1.2]))"
   ]
  },
  {
   "cell_type": "markdown",
   "metadata": {
    "colab_type": "text",
    "id": "YudQAC3lAvHM"
   },
   "source": [
    "### 2.1b"
   ]
  },
  {
   "cell_type": "code",
   "execution_count": 6,
   "metadata": {
    "colab": {
     "base_uri": "https://localhost:8080/",
     "height": 35
    },
    "colab_type": "code",
    "id": "NcaIrpbwAzke",
    "outputId": "def96afb-6dcc-4b43-d9a6-5234eb917673"
   },
   "outputs": [
    {
     "data": {
      "text/plain": [
       "([False, False], [False, False, False], False)"
      ]
     },
     "execution_count": 6,
     "metadata": {},
     "output_type": "execute_result"
    }
   ],
   "source": [
    "feasible(F_PARAMS, np.array([0.06, -0.001]))"
   ]
  },
  {
   "cell_type": "code",
   "execution_count": 7,
   "metadata": {
    "colab": {
     "base_uri": "https://localhost:8080/",
     "height": 35
    },
    "colab_type": "code",
    "id": "Ijxt1QuFwsnb",
    "outputId": "04a57f99-cabb-4378-ad31-ab032b61f817"
   },
   "outputs": [
    {
     "data": {
      "text/plain": [
       "False"
      ]
     },
     "execution_count": 7,
     "metadata": {},
     "output_type": "execute_result"
    }
   ],
   "source": [
    "infeasible(F_PARAMS, np.array([0.06, -0.001]))"
   ]
  },
  {
   "cell_type": "markdown",
   "metadata": {
    "colab_type": "text",
    "id": "mx8xYjCEA3Fq"
   },
   "source": [
    "### 2.1c"
   ]
  },
  {
   "cell_type": "code",
   "execution_count": 8,
   "metadata": {
    "colab": {
     "base_uri": "https://localhost:8080/",
     "height": 35
    },
    "colab_type": "code",
    "id": "dg-wN_h9A4Ux",
    "outputId": "38c817d5-2cf5-4626-8a83-b3198fed66d0"
   },
   "outputs": [
    {
     "data": {
      "text/plain": [
       "([False, False], [False, False, False], False)"
      ]
     },
     "execution_count": 8,
     "metadata": {},
     "output_type": "execute_result"
    }
   ],
   "source": [
    "feasible(F_PARAMS, np.array([0.1, 0.1]))"
   ]
  },
  {
   "cell_type": "code",
   "execution_count": 9,
   "metadata": {
    "colab": {
     "base_uri": "https://localhost:8080/",
     "height": 35
    },
    "colab_type": "code",
    "id": "phfrBGqSwuYH",
    "outputId": "8b5990f3-d7d2-4321-8d8b-4b1760f48626"
   },
   "outputs": [
    {
     "data": {
      "text/plain": [
       "False"
      ]
     },
     "execution_count": 9,
     "metadata": {},
     "output_type": "execute_result"
    }
   ],
   "source": [
    "infeasible(F_PARAMS, np.array([0.1, 0.1]))"
   ]
  },
  {
   "cell_type": "markdown",
   "metadata": {
    "colab_type": "text",
    "id": "EGyWAK_ADhMO"
   },
   "source": [
    "## 2.2\n",
    "\n",
    "Use the calibration function from Section 2.6 and the steady-state equilibrium Definition 2.1.\n",
    "Write a function named `get_SS()` that has the following form,\n",
    "```\n",
    "ss_output = get_SS(params, bvec_guess, SS_graphs)\n",
    "```\n",
    "where the inputs are a tuple of the parameters for the model\n",
    "`params = ((beta, sigma, nvec, L, A, alpha, delta, SS_tol))`,\n",
    "and initial guess of the steady-state savings `bvec_guess`,\n",
    "and a Boolean `SS_graphs` that generates a figure of the\n",
    "steady-state distribution of consumption and savings\n",
    "if it is set to `True`.\n",
    "The output object `ss_output` is a Python dictionary\n",
    "with the steady-state solution values for the following\n",
    "endogenous objects.\n",
    "```\n",
    "ss_output - {\n",
    "    'b_ss': b_ss,\n",
    "    'c_ss': c_ss,\n",
    "    'w_ss': w_ss,\n",
    "    'r_ss': r_ss,\n",
    "    'K_ss': K_ss,\n",
    "    'Y_ss': Y_ss,\n",
    "    'C_ss': C_ss,\n",
    "    'EulErr_ss': EulErr_ss,\n",
    "    'RCerr_ss': RCerr_ss,\n",
    "    'ss_time': ss_time\n",
    "}\n",
    "```\n",
    "Let `ss_time` be the number of seconds it takes to run your steady-stateprogram.\n",
    "You can time your program by importing the `time` library.\n",
    "```\n",
    "import time\n",
    "...\n",
    "start_time = time.clock()  # Place at beginning of get_SS()\n",
    "...\n",
    "ss_time = time.clock() - start_time  # Place at end of get_SS()\n",
    "```\n",
    "And let the object EulErr_ss be a length-2 vector of the\n",
    "two Euler errors from the resulting steady-state\n",
    "solution given in difference form\n",
    "$\\beta (1 + \\bar{r})u'(\\bar{c}_{s+1}) -u'(\\bar{c}_s)$.\n",
    "The object `RCerr_ss` is a resource constraint error which should be close to zero.\n",
    "It is given by $\\bar{Y} - \\bar{C} - \\delta \\bar{K}$."
   ]
  },
  {
   "cell_type": "markdown",
   "metadata": {
    "colab_type": "text",
    "id": "B_xiPN5LQPMU"
   },
   "source": [
    "### 2.2a\n",
    "\n",
    "Solve numerically for the steady-state equilibrium values of ${\\bar{c}_s}_{s=1}^3, {\\bar{b}_s}_{s=2}^3, \\bar{w}, \\bar{r}, \\bar{K}, \\bar{Y}, \\bar{C},$\n",
    "the two Euler errors and the resource constraint error.\n",
    "List those values.\n",
    "Time your function.\n",
    "How long did it take to compute the steady-state?"
   ]
  },
  {
   "cell_type": "code",
   "execution_count": 10,
   "metadata": {
    "colab": {},
    "colab_type": "code",
    "id": "F_9LtgXXqlW5"
   },
   "outputs": [],
   "source": [
    "PARAMS = BETA, SIGMA, NVEC, L, A, ALPHA, DELTA\n",
    "SS_TOL = 1e-10"
   ]
  },
  {
   "cell_type": "code",
   "execution_count": 11,
   "metadata": {
    "colab": {
     "base_uri": "https://localhost:8080/",
     "height": 203
    },
    "colab_type": "code",
    "id": "US7364VgQose",
    "outputId": "e20d9bb5-f01d-4877-90cc-97787f3b26e8"
   },
   "outputs": [
    {
     "data": {
      "text/plain": [
       "{'b_ss': array([0.01931253, 0.0584111 ]),\n",
       " 'c_ss': (0.18241212755849867, 0.20961468030898922, 0.24087386507209851),\n",
       " 'w_ss': 0.20172465739052575,\n",
       " 'r_ss': 2.433062339127069,\n",
       " 'K_ss': 0.07772362575316386,\n",
       " 'Y_ss': 0.6827603788602411,\n",
       " 'C_ss': 0.6329006729395864,\n",
       " 'EulErr_ss': array([-1.39266376e-12,  2.62900812e-12]),\n",
       " 'RCerr_ss': 8.326672684688674e-17,\n",
       " 'ss_time': 0.0007980000000000764}"
      ]
     },
     "execution_count": 11,
     "metadata": {},
     "output_type": "execute_result"
    }
   ],
   "source": [
    "ss = get_SS(PARAMS + (SS_TOL,), [0.1, 0.1], False)\n",
    "ss"
   ]
  },
  {
   "cell_type": "markdown",
   "metadata": {
    "colab_type": "text",
    "id": "gi0jK9EyQpRS"
   },
   "source": [
    "### 2.2b\n",
    "\n",
    "Generate a figure that shows the steady-state distribution of consumption and savings by age ${\\bar{c}_s}_{s=1}^3$ and ${\\bar{b}_s}_{s=2}^3$."
   ]
  },
  {
   "cell_type": "code",
   "execution_count": 12,
   "metadata": {
    "colab": {
     "base_uri": "https://localhost:8080/",
     "height": 726
    },
    "colab_type": "code",
    "id": "nWjj_KOAQxS4",
    "outputId": "1e57d158-ff56-4a68-ae61-cb6ff9574ad0"
   },
   "outputs": [
    {
     "data": {
      "image/png": "[encoded data removed]",
      "text/plain": [
       "<Figure size 432x288 with 1 Axes>"
      ]
     },
     "metadata": {
      "needs_background": "light"
     },
     "output_type": "display_data"
    },
    {
     "data": {
      "image/png": "[encoded data removed]",
      "text/plain": [
       "<Figure size 432x288 with 1 Axes>"
      ]
     },
     "metadata": {
      "needs_background": "light"
     },
     "output_type": "display_data"
    },
    {
     "data": {
      "text/plain": [
       "{'b_ss': array([0.01931253, 0.0584111 ]),\n",
       " 'c_ss': (0.18241212755849867, 0.20961468030898922, 0.24087386507209851),\n",
       " 'w_ss': 0.20172465739052575,\n",
       " 'r_ss': 2.433062339127069,\n",
       " 'K_ss': 0.07772362575316386,\n",
       " 'Y_ss': 0.6827603788602411,\n",
       " 'C_ss': 0.6329006729395864,\n",
       " 'EulErr_ss': array([-1.39266376e-12,  2.62900812e-12]),\n",
       " 'RCerr_ss': 8.326672684688674e-17,\n",
       " 'ss_time': 0.0008429999999999271}"
      ]
     },
     "execution_count": 12,
     "metadata": {},
     "output_type": "execute_result"
    }
   ],
   "source": [
    "get_SS(PARAMS + (SS_TOL,), [0.1, 0.1], True)"
   ]
  },
  {
   "cell_type": "markdown",
   "metadata": {
    "colab_type": "text",
    "id": "b_OjBkBRQxrd"
   },
   "source": [
    "### 2.2c\n",
    "\n",
    "What happens to each of these steady-state values if all households become more patient\n",
    "$\\beta \\uparrow$\n",
    "(an example would be $\\beta = 0.55$)?\n",
    "That is, in what direction does $\\beta \\uparrow$\n",
    "move each steady-state value? What is the intuition?\n",
    "\n",
    "*Capital, consumption, and wages rise; interest rate falls.*"
   ]
  },
  {
   "cell_type": "code",
   "execution_count": 13,
   "metadata": {
    "colab": {
     "base_uri": "https://localhost:8080/",
     "height": 726
    },
    "colab_type": "code",
    "id": "Fb6YekrvTPYa",
    "outputId": "09bc4c01-d874-405b-b541-3e9ee7c18c3e"
   },
   "outputs": [
    {
     "data": {
      "image/png": "[encoded data removed]",
      "text/plain": [
       "<Figure size 432x288 with 1 Axes>"
      ]
     },
     "metadata": {
      "needs_background": "light"
     },
     "output_type": "display_data"
    },
    {
     "data": {
      "image/png": "[encoded data removed]",
      "text/plain": [
       "<Figure size 432x288 with 1 Axes>"
      ]
     },
     "metadata": {
      "needs_background": "light"
     },
     "output_type": "display_data"
    },
    {
     "data": {
      "text/plain": [
       "{'b_ss': array([0.02817692, 0.07686545]),\n",
       " 'c_ss': (0.19597527701928266, 0.22861594138399466, 0.2666930719518642),\n",
       " 'w_ss': 0.22415219593446262,\n",
       " 'r_ss': 1.8863765057190747,\n",
       " 'K_ss': 0.10504237022597478,\n",
       " 'Y_ss': 0.7586689708551043,\n",
       " 'C_ss': 0.6912842903551415,\n",
       " 'EulErr_ss': array([ 5.68434189e-14, -2.84217094e-14]),\n",
       " 'RCerr_ss': 1.3877787807814457e-17,\n",
       " 'ss_time': 0.000596000000000263}"
      ]
     },
     "execution_count": 13,
     "metadata": {},
     "output_type": "execute_result"
    }
   ],
   "source": [
    "BETA = 0.55\n",
    "PARAMS = BETA, SIGMA, NVEC, L, A, ALPHA, DELTA\n",
    "get_SS(PARAMS + (SS_TOL,), [0.1, 0.1], True)"
   ]
  },
  {
   "cell_type": "markdown",
   "metadata": {
    "colab_type": "text",
    "id": "-g19qFa0UMJu"
   },
   "source": [
    "## 2.3\n",
    "\n",
    "Use time path iteration (TPI) to solve for the non-steady state equilibrium transition path of the economy from $(b_{2,1},b_{3,1})=(0.8 \\bar{b}_2, 1.1\\bar{b}_3)$ to the steady-state $(\\bar{b}_2, \\bar{b}_3)$.\n",
    "You'll have to choose a guess for $T$ and a time path updating parameter $\\xi \\in (0,1)$,\n",
    "but I can assure you that $T<50$.\n",
    "Use an $L^2$ norm for your distance measure\n",
    "(sum of squared percent deviations),\n",
    "and use a convergence parameter of $\\epsilon=10^{-9}$.\n",
    "Use a linear initial guess for the time path of the\n",
    "aggregate capital stock from the initial state\n",
    "$K_1^1$ to the steady state $K_T^1$ at time $T$."
   ]
  },
  {
   "cell_type": "code",
   "execution_count": 14,
   "metadata": {},
   "outputs": [],
   "source": [
    "T = 50\n",
    "XI = 0.3\n",
    "M = 3"
   ]
  },
  {
   "cell_type": "code",
   "execution_count": 15,
   "metadata": {
    "scrolled": false
   },
   "outputs": [],
   "source": [
    "tpi_sol = tpi(b0_ratios=np.array([0.8, 1.1]), bvec_guess=[0.1, 0.1],\n",
    "              beta=BETA, sigma=SIGMA, nvec=NVEC, L=L, A=A, alpha=ALPHA,\n",
    "              delta=DELTA, T=T, m=M, xi=XI, tol=1e-9)"
   ]
  },
  {
   "cell_type": "markdown",
   "metadata": {},
   "source": [
    "### 2.3a\n",
    "\n",
    "Report the maximum of the absolute values of all the Euler errors across the\n",
    "entire time path.\n",
    "Also report the maximum of the absolute value of all the aggregate resource\n",
    "constraint errors $Y_t - C_t - K_{t+1} + (1-\\delta)K_t$ across the entire time path."
   ]
  },
  {
   "cell_type": "code",
   "execution_count": 16,
   "metadata": {},
   "outputs": [
    {
     "data": {
      "text/plain": [
       "9.151909455514172"
      ]
     },
     "execution_count": 16,
     "metadata": {},
     "output_type": "execute_result"
    }
   ],
   "source": [
    "# Euler errors.\n",
    "Kpath = tpi_sol.sum(axis=0)\n",
    "wpath = get_wpath(Kpath, ALPHA, A, L, M)\n",
    "rpath = get_rpath(Kpath, ALPHA, A, L, DELTA, M)\n",
    "\n",
    "eulerrs = np.zeros((T, 2))\n",
    "for t in range(T):\n",
    "    eulerrs[t] = tpi_pair_opt_fun([tpi_sol[0][t], tpi_sol[1][t]], wpath,\n",
    "                                  rpath, BETA, SIGMA, NVEC, t)\n",
    "abs(eulerrs).max()"
   ]
  },
  {
   "cell_type": "code",
   "execution_count": 17,
   "metadata": {},
   "outputs": [
    {
     "data": {
      "text/plain": [
       "0.1982881664618553"
      ]
     },
     "execution_count": 17,
     "metadata": {},
     "output_type": "execute_result"
    }
   ],
   "source": [
    "# Resource constraint errors.\n",
    "Y = A * (Kpath ** ALPHA) * (L ** (1 - ALPHA))\n",
    "C = np.array([c(tpi_sol[0][t], tpi_sol[1][t], wpath[t], rpath[t], NVEC)\n",
    "              for t in range(T)]).sum(axis=1)\n",
    "rc_errs = Y[:T] - C - Kpath[1:T+1] + (1 - DELTA) * Kpath[:T]\n",
    "abs(rc_errs).max()"
   ]
  },
  {
   "cell_type": "markdown",
   "metadata": {},
   "source": [
    "### 2.3b\n",
    "\n",
    "Plot the equilibrium time paths of the\n",
    "aggregate capital stock $\\{K_t\\}_{t=1}^{T+5}$,\n",
    "wage $\\{w_t\\}_{t=1}^{T+5}$,\n",
    "and interest rate $\\{r_t\\}_{t=1}^{T+5}$."
   ]
  },
  {
   "cell_type": "code",
   "execution_count": 18,
   "metadata": {},
   "outputs": [
    {
     "data": {
      "image/png": "[encoded data removed]",
      "text/plain": [
       "<Figure size 432x288 with 1 Axes>"
      ]
     },
     "metadata": {
      "needs_background": "light"
     },
     "output_type": "display_data"
    },
    {
     "data": {
      "image/png": "[encoded data removed]",
      "text/plain": [
       "<Figure size 432x288 with 1 Axes>"
      ]
     },
     "metadata": {
      "needs_background": "light"
     },
     "output_type": "display_data"
    },
    {
     "data": {
      "image/png": "[encoded data removed]",
      "text/plain": [
       "<Figure size 432x288 with 1 Axes>"
      ]
     },
     "metadata": {
      "needs_background": "light"
     },
     "output_type": "display_data"
    }
   ],
   "source": [
    "pd.Series(Kpath).plot()\n",
    "plt.title('Aggregate capital stock')\n",
    "plt.show()\n",
    "pd.Series(wpath).plot()\n",
    "plt.title('Wages')\n",
    "plt.show()\n",
    "pd.Series(rpath).plot()\n",
    "plt.title('Interest rates')\n",
    "plt.show()"
   ]
  },
  {
   "cell_type": "markdown",
   "metadata": {},
   "source": [
    "### 2.3c\n",
    "\n",
    "How many periods did it take for the economy to get within 0.00001 of the\n",
    "steady-state aggregate capital stock $\\bar{K}$?\n",
    "What is the period after which the aggregate capital stock never is again\n",
    "farther than 0.00001 away from the steady-state?"
   ]
  },
  {
   "cell_type": "code",
   "execution_count": 19,
   "metadata": {},
   "outputs": [
    {
     "data": {
      "text/plain": [
       "array([0.06349207, 0.08503815, 0.09172089, 0.09365243, 0.09419957,\n",
       "       0.09435365, 0.09439693, 0.09440907, 0.09441245, 0.09441339,\n",
       "       0.09441364, 0.09441371, 0.09441373, 0.09441373, 0.09441373,\n",
       "       0.09441373, 0.09441373, 0.09441373, 0.09441373, 0.09441373,\n",
       "       0.09441373, 0.09441373, 0.09441373, 0.09441373, 0.09441373,\n",
       "       0.09441373, 0.09441373, 0.09441373, 0.09441373, 0.09441373,\n",
       "       0.09441373, 0.09441373, 0.09441372, 0.09441372, 0.09441372,\n",
       "       0.09441372, 0.09441372, 0.09441372, 0.09441372, 0.09441372,\n",
       "       0.09441372, 0.09441372, 0.09441372, 0.09441372, 0.09441372,\n",
       "       0.09441372, 0.09441372, 0.09441372, 0.09441372, 0.09441372,\n",
       "       0.09441372, 0.04864388])"
      ]
     },
     "execution_count": 19,
     "metadata": {},
     "output_type": "execute_result"
    }
   ],
   "source": [
    "# Something's wrong.\n",
    "abs(Kpath - ss['K_ss'])"
   ]
  }
 ],
 "metadata": {
  "colab": {
   "collapsed_sections": [],
   "name": "OGprimer chapter 2 exercises.ipynb",
   "provenance": []
  },
  "kernelspec": {
   "display_name": "Python 3",
   "language": "python",
   "name": "python3"
  },
  "language_info": {
   "codemirror_mode": {
    "name": "ipython",
    "version": 3
   },
   "file_extension": ".py",
   "mimetype": "text/x-python",
   "name": "python",
   "nbconvert_exporter": "python",
   "pygments_lexer": "ipython3",
   "version": "3.7.7"
  }
 },
 "nbformat": 4,
 "nbformat_minor": 1
}
