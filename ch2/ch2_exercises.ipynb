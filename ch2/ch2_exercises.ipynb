{
  "nbformat": 4,
  "nbformat_minor": 0,
  "metadata": {
    "colab": {
      "name": "OGprimer chapter 2 exercises.ipynb",
      "provenance": [],
      "collapsed_sections": []
    },
    "kernelspec": {
      "name": "python3",
      "display_name": "Python 3"
    }
  },
  "cells": [
    {
      "cell_type": "markdown",
      "metadata": {
        "id": "g8YjC5DxTO8M",
        "colab_type": "text"
      },
      "source": [
        "# [OGprimer chapter 2](https://github.com/OpenRG/OGprimer/blob/master/Chapters/OGtext_ch02.pdf) exercises\n",
        "\n",
        "## 2.6 Calibration\n",
        "\n",
        "Use the following parameterization of the model for the problems below. Because agents live\n",
        "for only three periods, assume that each period of life is 20 years. If the annual discount\n",
        "factor is estimated to be 0.96, then the 20-year discount factor is β = 0.9620 = 0.442.\n",
        "Let the annual depreciation rate of capital be 0.05. Then the 20-year depreciation rate is\n",
        "δ = 1 − (1 − 0.05)20 = 0.6415. Let the coefficient of relative risk aversion be σ = 3, let\n",
        "the productivity scale parameter of firms be A = 1, and let the capital share of income be\n",
        "α = 0.35."
      ]
    },
    {
      "cell_type": "code",
      "metadata": {
        "id": "-8QPbDuHTnQm",
        "colab_type": "code",
        "colab": {}
      },
      "source": [
        "# \"Because agents live for only three periods, assume that each period of life\n",
        "#  is 20 years.\"\n",
        "PERIOD_YEARS = 20\n",
        "# If the annual discount factor is estimated to be 0.96...\n",
        "ANNUAL_DISCOUNT = 0.96\n",
        "# ...then the 20-year discount factor is 0.96^20 = 0.442.\n",
        "BETA = 0.442\n",
        "# Let the annual depreciation rate of capital be 0.05.\n",
        "ANNUAL_DEPR = 0.05\n",
        "# Then the 20-year depreciation rate is 1 - (1 - 0.05)^20 = 0.6415.\n",
        "DELTA = 0.6415\n",
        "# Let the coefficient of relative risk aversion be 3,\n",
        "CRRA = 3\n",
        "# let the productivityscale parameter of firms be A = 1,\n",
        "A = 1\n",
        "# and let the capital share of income be 0.35.\n",
        "ALPHA = 0.35\n",
        "# Assuming the same labor vector as section 2.1.\n",
        "NVEC = [1, 1, 0.2]\n",
        "n = sum(NVEC)\n",
        "L = n"
      ],
      "execution_count": 127,
      "outputs": []
    },
    {
      "cell_type": "markdown",
      "metadata": {
        "id": "GUCRQ9eKUnBF",
        "colab_type": "text"
      },
      "source": [
        "## Exercise 2.1\n",
        "Using the calibration from Section 2.6, write a Python function named `feasible()` that has the following form,\n",
        "```\n",
        "b_cnstr, c_cnstr, K_cnstr = feasible(f_params, bvec_guess)\n",
        "```\n",
        "where the inputs are a tuple `f_params = (nvec, A, alpha, delta)`, and a guess for the steady-state savings vector `bvec_guess = np.array([scalar, scalar])`.\n",
        "The outputs should be Boolean (`True` or `False`, `1` or `0`)\n",
        "vectors of lengths 2, 3, and 1, respectively.\n",
        "`K_cnstr` should be a singleton Boolean that equals `True` if $K \\leq 0$ for the given `f_params` and `bvec_guess`.\n",
        "\n",
        "The object `c_cnstr` should be a length-3 Boolean vector in which the $s$th element equals `True` if $c_s \\leq 0$\n",
        "given `f_params` and `bvec_guess`.\n",
        "And `b_cnstr` is a length-2 Boolean vector that denotes which element of `bvec_guess` is likely responsible for any of the consumption nonnegativity constraint violations identified in `c_cnstr`.\n",
        "If the first element of `c_cnstr` is `True`, then the first element of `b_cnstr` is `True`.\n",
        "If the second element of `c_cnstr` is `True`, then both elements of `b_cnstr` are `True`.\n",
        "And if the last element of `c_cnstr` is `True`, then the last element of `b_cnstr` is `True`.\n",
        "\n",
        "*Comment: Shrinking 3-element `c_cnstr` down to 2-element `b_cnstr` was confusing. Is this extra parsimony necessary?*\n",
        "\n",
        "*Question: Should it be $c_s \\leq 0$ or $c_s < 0$?*"
      ]
    },
    {
      "cell_type": "code",
      "metadata": {
        "id": "OyXuhDPYnNaN",
        "colab_type": "code",
        "colab": {}
      },
      "source": [
        "import numpy as np\n",
        "import pandas as pd\n",
        "import matplotlib.pyplot as plt\n",
        "import scipy.optimize as opt\n",
        "import time"
      ],
      "execution_count": 128,
      "outputs": []
    },
    {
      "cell_type": "code",
      "metadata": {
        "id": "cDRblL-QkQw8",
        "colab_type": "code",
        "colab": {}
      },
      "source": [
        "def u_crra(c, crra=CRRA):\n",
        "    return (c ** (1 - crra) - 1) / (1 - crra)\n",
        "\n",
        "# Derivative of CRRA is c^(-sigma)\n",
        "def du_crra(c, crra=CRRA):\n",
        "    return c ** (-crra)"
      ],
      "execution_count": 129,
      "outputs": []
    },
    {
      "cell_type": "code",
      "metadata": {
        "id": "Jk8S9IL4X-sv",
        "colab_type": "code",
        "colab": {}
      },
      "source": [
        "def w_t(b_2_t, b_3_t, alpha=ALPHA, A=A, n=n):\n",
        "    \"\"\" Equilibrium wage rate as a function of the distribution of capital,\n",
        "        capital income share, productivity, and total labor.\n",
        "    \n",
        "    Args:\n",
        "        b_2_t: Savings at age 2 as of time t.\n",
        "        b_3_t: Savings at age 3 as of time t.\n",
        "        alpha: Capital income share.\n",
        "        A: Productivity.\n",
        "        n: Total labor. \n",
        "\n",
        "    Returns:\n",
        "        Equilibrium wage rate as of time t.\n",
        "    \"\"\"\n",
        "    return (1 - alpha) * A * ((b_2_t + b_3_t) / n) ** alpha"
      ],
      "execution_count": 130,
      "outputs": []
    },
    {
      "cell_type": "code",
      "metadata": {
        "id": "VakNHUUb87aq",
        "colab_type": "code",
        "colab": {}
      },
      "source": [
        "def wpath(Kpath, alpha=ALPHA, A=A, n=n):\n",
        "    \"\"\" Wage path given aggregate capital path.\n",
        "    \"\"\"\n",
        "    return np.power((1 - alpha) * A * Kpath / n, alpha)"
      ],
      "execution_count": 131,
      "outputs": []
    },
    {
      "cell_type": "code",
      "metadata": {
        "id": "U58yrgNJZHh1",
        "colab_type": "code",
        "colab": {}
      },
      "source": [
        "def r_t(b_2_t, b_3_t, alpha=ALPHA, A=A, n=n, delta=DELTA):\n",
        "    \"\"\" Equilibrium interest rate as a function of the distribution of capital,\n",
        "        capital income share, productivity, total labor, and depreciation rate.\n",
        "    \n",
        "    Args:\n",
        "        b_2_t: Savings at age 2 as of time t.\n",
        "        b_3_t: Savings at age 3 as of time t.\n",
        "        alpha: Capital income share.\n",
        "        A: Productivity.\n",
        "        n: Total labor.\n",
        "        delta: Depreciation rate.\n",
        "\n",
        "    Returns:\n",
        "        Equilibrium interest rate as of time t.\n",
        "    \"\"\"\n",
        "    return alpha * A * (n / (b_2_t + b_3_t)) ** (1 - alpha) - delta"
      ],
      "execution_count": 132,
      "outputs": []
    },
    {
      "cell_type": "code",
      "metadata": {
        "id": "9Ak8sZtx9L7c",
        "colab_type": "code",
        "colab": {}
      },
      "source": [
        "def rpath(Kpath, alpha=ALPHA, A=A, n=n, delta=DELTA):\n",
        "    \"\"\" Interest rate path given aggregate capital path.\n",
        "    \"\"\"\n",
        "    return alpha * A * np.power(n / Kpath, 1 - alpha) - delta"
      ],
      "execution_count": 133,
      "outputs": []
    },
    {
      "cell_type": "code",
      "metadata": {
        "id": "YRat7d9uzzOG",
        "colab_type": "code",
        "colab": {}
      },
      "source": [
        "def c(b_2, b_3, w, r, nvec):\n",
        "    c_1 = nvec[0] * w - b_2\n",
        "    c_2 = nvec[1] * w + (1 + r) * b_2 - b_3\n",
        "    c_3 = nvec[2] * w + (1 + r) * b_3\n",
        "    return c_1, c_2, c_3"
      ],
      "execution_count": 134,
      "outputs": []
    },
    {
      "cell_type": "code",
      "metadata": {
        "id": "y8dFDnJCY1Vf",
        "colab_type": "code",
        "colab": {}
      },
      "source": [
        "def feasible(f_params, bvec_guess):\n",
        "    \"\"\" Identifies whether constraints can be satisfied given economic\n",
        "        parameters and an initial guess of steady-state savings.\n",
        "\n",
        "    Args:\n",
        "        f_params: Tuple (nvec, A, alpha, delta).\n",
        "        bvec_guess: np.array([scalar, scalar]).\n",
        "    \n",
        "    Returns:\n",
        "        Tuple of Boolean vectors:\n",
        "        - b_cnstr (length 2, denotes which element of bvec_guess is likely\n",
        "                   responsible for consumption nonnegativity constraint\n",
        "                   violations identified in c_cnstr)\n",
        "        - c_cnstr (length 3, true if c_s <= 0)\n",
        "        - K_cnstr (length 1, true if K <= 0)\n",
        "    \"\"\"\n",
        "    # Extract params.\n",
        "    nvec, A, alpha, delta = f_params\n",
        "    b_2, b_3 = bvec_guess\n",
        "    # Calculate total labor supply.\n",
        "    n = sum(nvec)\n",
        "    # Calculate equilibrium wage and interest rates.\n",
        "    w = w_t(b_2, b_3, alpha, A, n)\n",
        "    r = r_t(b_2, b_3, alpha, A, n, delta)\n",
        "    # Calculate consumption levels via Equation 2.7.\n",
        "    c_1, c_2, c_3 = c(b_2, b_3, w, r, nvec)\n",
        "    # Calculate K via market-clearing condition, Equation 2.23.\n",
        "    K = b_2 + b_3\n",
        "    # Define constraints violations.\n",
        "    c_cnstr = [c_1 < 0, c_2 < 0, c_3 < 0]\n",
        "    K_cnstr = K < 0\n",
        "    # Identify the element of bvec_guess likely responsible.\n",
        "    b_cnstr = [False, False]\n",
        "    if c_1 < 0:\n",
        "        b_cnstr[0] = True\n",
        "    if c_2 < 0:\n",
        "        b_cnstr = [True, True]\n",
        "    if c_3 < 0:\n",
        "        b_cnstr[1] = False\n",
        "    # Return\n",
        "    return b_cnstr, c_cnstr, K_cnstr"
      ],
      "execution_count": 135,
      "outputs": []
    },
    {
      "cell_type": "code",
      "metadata": {
        "id": "c8_vJtqku8pG",
        "colab_type": "code",
        "colab": {}
      },
      "source": [
        "def infeasible(f_params, bvec_guess):\n",
        "    \"\"\" Simple True/False indicating whether it's infeasible.\n",
        "    \"\"\"\n",
        "    b_cnstr, c_cnstr, K_cnstr = feasible(f_params, bvec_guess)\n",
        "    return any([any(b_cnstr), any(c_cnstr), K_cnstr])"
      ],
      "execution_count": 136,
      "outputs": []
    },
    {
      "cell_type": "markdown",
      "metadata": {
        "id": "uv7m9PB8ZqJz",
        "colab_type": "text"
      },
      "source": [
        "## 2.1a\n",
        "\n",
        "Which, if any, of the constraints is violated if you choose an initial guess for steady-state savings of `bvec_guess = np.array([1.0, 1.2])`?"
      ]
    },
    {
      "cell_type": "code",
      "metadata": {
        "id": "Vp-4yJYTf_5J",
        "colab_type": "code",
        "colab": {}
      },
      "source": [
        "F_PARAMS = (NVEC, A, ALPHA, DELTA)"
      ],
      "execution_count": 137,
      "outputs": []
    },
    {
      "cell_type": "code",
      "metadata": {
        "id": "L6k5xhPBZyrv",
        "colab_type": "code",
        "colab": {
          "base_uri": "https://localhost:8080/",
          "height": 35
        },
        "outputId": "75fbd5c0-6cd4-4a10-c46e-c5e8b97ac9e7"
      },
      "source": [
        "feasible(F_PARAMS, np.array([1.0, 1.2]))"
      ],
      "execution_count": 138,
      "outputs": [
        {
          "output_type": "execute_result",
          "data": {
            "text/plain": [
              "([True, False], [True, False, False], False)"
            ]
          },
          "metadata": {
            "tags": []
          },
          "execution_count": 138
        }
      ]
    },
    {
      "cell_type": "code",
      "metadata": {
        "id": "aOvTN-ASwrU5",
        "colab_type": "code",
        "colab": {
          "base_uri": "https://localhost:8080/",
          "height": 35
        },
        "outputId": "cb1db989-7fcd-42cc-8fc5-ea1f036f7606"
      },
      "source": [
        "infeasible(F_PARAMS, np.array([1.0, 1.2]))"
      ],
      "execution_count": 139,
      "outputs": [
        {
          "output_type": "execute_result",
          "data": {
            "text/plain": [
              "True"
            ]
          },
          "metadata": {
            "tags": []
          },
          "execution_count": 139
        }
      ]
    },
    {
      "cell_type": "markdown",
      "metadata": {
        "id": "YudQAC3lAvHM",
        "colab_type": "text"
      },
      "source": [
        "### 2.1b"
      ]
    },
    {
      "cell_type": "code",
      "metadata": {
        "id": "NcaIrpbwAzke",
        "colab_type": "code",
        "colab": {
          "base_uri": "https://localhost:8080/",
          "height": 35
        },
        "outputId": "def96afb-6dcc-4b43-d9a6-5234eb917673"
      },
      "source": [
        "feasible(F_PARAMS, np.array([0.06, -0.001]))"
      ],
      "execution_count": 140,
      "outputs": [
        {
          "output_type": "execute_result",
          "data": {
            "text/plain": [
              "([False, False], [False, False, False], False)"
            ]
          },
          "metadata": {
            "tags": []
          },
          "execution_count": 140
        }
      ]
    },
    {
      "cell_type": "code",
      "metadata": {
        "id": "Ijxt1QuFwsnb",
        "colab_type": "code",
        "colab": {
          "base_uri": "https://localhost:8080/",
          "height": 35
        },
        "outputId": "04a57f99-cabb-4378-ad31-ab032b61f817"
      },
      "source": [
        "infeasible(F_PARAMS, np.array([0.06, -0.001]))"
      ],
      "execution_count": 141,
      "outputs": [
        {
          "output_type": "execute_result",
          "data": {
            "text/plain": [
              "False"
            ]
          },
          "metadata": {
            "tags": []
          },
          "execution_count": 141
        }
      ]
    },
    {
      "cell_type": "markdown",
      "metadata": {
        "id": "mx8xYjCEA3Fq",
        "colab_type": "text"
      },
      "source": [
        "### 2.1c"
      ]
    },
    {
      "cell_type": "code",
      "metadata": {
        "id": "dg-wN_h9A4Ux",
        "colab_type": "code",
        "colab": {
          "base_uri": "https://localhost:8080/",
          "height": 35
        },
        "outputId": "38c817d5-2cf5-4626-8a83-b3198fed66d0"
      },
      "source": [
        "feasible(F_PARAMS, np.array([0.1, 0.1]))"
      ],
      "execution_count": 142,
      "outputs": [
        {
          "output_type": "execute_result",
          "data": {
            "text/plain": [
              "([False, False], [False, False, False], False)"
            ]
          },
          "metadata": {
            "tags": []
          },
          "execution_count": 142
        }
      ]
    },
    {
      "cell_type": "code",
      "metadata": {
        "id": "phfrBGqSwuYH",
        "colab_type": "code",
        "colab": {
          "base_uri": "https://localhost:8080/",
          "height": 35
        },
        "outputId": "8b5990f3-d7d2-4321-8d8b-4b1760f48626"
      },
      "source": [
        "infeasible(F_PARAMS, np.array([0.1, 0.1]))"
      ],
      "execution_count": 143,
      "outputs": [
        {
          "output_type": "execute_result",
          "data": {
            "text/plain": [
              "False"
            ]
          },
          "metadata": {
            "tags": []
          },
          "execution_count": 143
        }
      ]
    },
    {
      "cell_type": "markdown",
      "metadata": {
        "id": "EGyWAK_ADhMO",
        "colab_type": "text"
      },
      "source": [
        "## 2.2\n",
        "\n",
        "Use the calibration function from Section 2.6 and the steady-state equilibrium Definition 2.1.\n",
        "Write a function named `get_SS()` that has the following form,\n",
        "```\n",
        "ss_output = get_SS(params, bvec_guess, SS_graphs)\n",
        "```\n",
        "where the inputs are a tuple of the parameters for the model\n",
        "`params = ((beta, sigma, nvec, L, A, alpha, delta, SS_tol))`,\n",
        "and initial guess of the steady-state savings `bvec_guess`,\n",
        "and a Boolean `SS_graphs` that generates a figure of the\n",
        "steady-state distribution of consumption and savings\n",
        "if it is set to `True`.\n",
        "The output object `ss_output` is a Python dictionary\n",
        "with the steady-state solution values for the following\n",
        "endogenous objects.\n",
        "```\n",
        "ss_output - {\n",
        "    'b_ss': b_ss,\n",
        "    'c_ss': c_ss,\n",
        "    'w_ss': w_ss,\n",
        "    'r_ss': r_ss,\n",
        "    'K_ss': K_ss,\n",
        "    'Y_ss': Y_ss,\n",
        "    'C_ss': C_ss,\n",
        "    'EulErr_ss': EulErr_ss,\n",
        "    'RCerr_ss': RCerr_ss,\n",
        "    'ss_time': ss_time\n",
        "}\n",
        "```\n",
        "Let `ss_time` be the number of seconds it takes to run your steady-stateprogram.\n",
        "You can time your program by importing the `time` library.\n",
        "```\n",
        "import time\n",
        "...\n",
        "start_time = time.clock()  # Place at beginning of get_SS()\n",
        "...\n",
        "ss_time = time.clock() - start_time  # Place at end of get_SS()\n",
        "```\n",
        "And let the object EulErr_ss be a length-2 vector of the\n",
        "two Euler errors from the resulting steady-state\n",
        "solution given in difference form\n",
        "$\\beta (1 + \\bar{r})u'(\\bar{c}_{s+1}) -u'(\\bar{c}_s)$.\n",
        "The object `RCerr_ss` is a resource constraint error which should be close to zero.\n",
        "It is given by $\\bar{Y} - \\bar{C} - \\delta \\bar{K}$."
      ]
    },
    {
      "cell_type": "code",
      "metadata": {
        "id": "V0u6g9yRZZc4",
        "colab_type": "code",
        "colab": {
          "base_uri": "https://localhost:8080/",
          "height": 35
        },
        "outputId": "87e496d9-a34c-4cd2-f2d5-63be9201ee66"
      },
      "source": [
        "r_t(0.1, .5)"
      ],
      "execution_count": 144,
      "outputs": [
        {
          "output_type": "execute_result",
          "data": {
            "text/plain": [
              "0.1729125812512312"
            ]
          },
          "metadata": {
            "tags": []
          },
          "execution_count": 144
        }
      ]
    },
    {
      "cell_type": "code",
      "metadata": {
        "id": "XLO4eLI5n1RR",
        "colab_type": "code",
        "colab": {}
      },
      "source": [
        "def ss_opt_fun(bvec, beta, sigma, nvec, L, A, alpha, delta):\n",
        "    \"\"\" Function to root-find to get steady-state solution.\n",
        "\n",
        "    Args:\n",
        "        bvec: Vector of steady-state savings [b2, b3].\n",
        "        params: Tuple of (beta, sigma, nvec, L, A, alpha, delta).\n",
        "\n",
        "    Returns:\n",
        "        Vector of Euler errors.\n",
        "    \"\"\"\n",
        "    # (nvec, A, alpha, delta\n",
        "    if infeasible((nvec, A, alpha, delta), bvec):\n",
        "        return [100, 100]\n",
        "    b_2, b_3 = bvec\n",
        "    n_1, n_2, n_3 = nvec\n",
        "    # Start with LHS and RHS of equations 2.29 and 2.30.\n",
        "    # Replace 1/1/0.2 with n1/n2/n3.\n",
        "    # 2.29: u'(n_1*w(b_2,b_3)-b_2) =\n",
        "    #       beta*(1+r(b_2,b_3))u'(n_2*w(b_2,b_3)+[1+r(b_2,b_3)]b_2-b_3)\n",
        "    # 2.30: u'(n_2*w(b_2,b_3)+[1+r(b_2,b_3)]b_2-b_3)=\n",
        "    #       B(1+r(b_2,b_3))u'([1+r(b_2,b_3)]b_3+n_3*w(b_2,b_3))\n",
        "    # u' function: du_crra(c, crra=CRRA)\n",
        "    # w function: w_t(b_2_t, b_3_t, alpha=ALPHA, A=A, n=n)\n",
        "    # r function: r_t(b_2_t, b_3_t, alpha=ALPHA, A=A, n=n, delta=DELTA)\n",
        "    w = w_t(b_2, b_3, alpha, A, n)\n",
        "    r = r_t(b_2, b_3, alpha, A, n, delta)\n",
        "    lhs_2_29 = du_crra(n_1 * w - b_2, sigma)\n",
        "    rhs_2_29 = beta * (1 + r) * du_crra(n_2 * w + (1 + r) * b_2 - b_3)\n",
        "    lhs_2_30 = du_crra(n_2 * w + (1 + r) * b_2 - b_3, sigma)\n",
        "    rhs_2_30 = beta * (1 + r) * du_crra((1 + r) * b_3 + n_3 * w)\n",
        "    return [lhs_2_29 - rhs_2_29, lhs_2_30 - rhs_2_30]"
      ],
      "execution_count": 145,
      "outputs": []
    },
    {
      "cell_type": "code",
      "metadata": {
        "id": "T8ZQH9wGDi-B",
        "colab_type": "code",
        "colab": {}
      },
      "source": [
        "def get_SS(params, bvec_guess, SS_graphs=False):\n",
        "    \"\"\" Calculates steady-state solution.\n",
        "\n",
        "    Args:\n",
        "        params: Tuple of (beta, sigma, nvec, L, A, alpha, delta, SS_tol).\n",
        "        bvec_guess: Initial guess of steady-state savings.\n",
        "        SS_graphs: Boolean that generates a figure of the steady-state\n",
        "            distribution of consumption and savings if set to True.\n",
        "            Defaults to False.\n",
        "    \n",
        "    Returns:\n",
        "        Dictionary with the steady-state solution values for the\n",
        "        following endogenous objects:\n",
        "        b_ss: Length-2 vector of steady-state savings b_2_ss and b_3_ss.\n",
        "        c_ss: Length-3 vector of steady-state consumption.\n",
        "        w_ss: Steady-state wage.\n",
        "        r_ss: Steady-state interest rate.\n",
        "        K_ss: Steady-state capital.\n",
        "        Y_ss: Steady-state income.\n",
        "        C_ss: Steady-state consumption  (how does this differ from c_ss?).\n",
        "        EulErr_ss: Length-2 vector of the two Euler errors from the resulting\n",
        "            steady-state solution given in difference form\n",
        "            beta(1+r)u'(c_{s+1}) - u'(c_s).\n",
        "        RCerr_ss: Resource constraint error which should be close to zero.\n",
        "            It is given by Y-C-delta*K.\n",
        "        ss_time: Run time in seconds.\n",
        "    \"\"\"\n",
        "    # Extract parameters.\n",
        "    start_time = time.clock()\n",
        "    beta, sigma, nvec, L, A, alpha, delta, SS_tol = params\n",
        "    # Solve.\n",
        "    opt_res = opt.root(ss_opt_fun, bvec_guess, params[:-1], tol=SS_tol)\n",
        "    # Extract features from the optimization result.\n",
        "    b2_ss, b3_ss = b_ss = opt_res.x\n",
        "    EulErr_ss = opt_res.fun\n",
        "    # Calculate other quantities.\n",
        "    w_ss = w_t(b2_ss, b3_ss, alpha, A, L)\n",
        "    r_ss = r_t(b2_ss, b3_ss, alpha, A, L, delta)\n",
        "    c_ss = c(b2_ss, b3_ss, w_ss, r_ss, nvec)\n",
        "    K_ss = sum(b_ss)\n",
        "    C_ss = sum(c_ss)\n",
        "    # Calculate output via production function, not market-clearing.\n",
        "    Y_ss = A * (K_ss ** alpha) * (L ** (1 - alpha))\n",
        "    RCerr_ss = Y_ss - C_ss - delta * K_ss\n",
        "    ss_time = time.clock() - start_time\n",
        "    if SS_graphs:\n",
        "        pd.Series(c_ss).plot.bar()\n",
        "        plt.title('Consumption')\n",
        "        plt.show()\n",
        "        pd.Series(b_ss).plot.bar()\n",
        "        plt.title('Savings')\n",
        "        plt.show()\n",
        "    return {'b_ss': b_ss,\n",
        "            'c_ss': c_ss,\n",
        "            'w_ss': w_ss,\n",
        "            'r_ss': r_ss,\n",
        "            'K_ss': K_ss,\n",
        "            'Y_ss': Y_ss,\n",
        "            'C_ss': C_ss,\n",
        "            'EulErr_ss': EulErr_ss,\n",
        "            'RCerr_ss': RCerr_ss,\n",
        "            'ss_time': ss_time\n",
        "            }"
      ],
      "execution_count": 146,
      "outputs": []
    },
    {
      "cell_type": "markdown",
      "metadata": {
        "id": "B_xiPN5LQPMU",
        "colab_type": "text"
      },
      "source": [
        "### 2.2a\n",
        "\n",
        "Solve numerically for the steady-state equilibrium values of ${\\bar{c}_s}_{s=1}^3, {\\bar{b}_s}_{s=2}^3, \\bar{w}, \\bar{r}, \\bar{K}, \\bar{Y}, \\bar{C},$\n",
        "the two Euler errors and the resource constraint error.\n",
        "List those values.\n",
        "Time your function.\n",
        "How long did it take to compute the steady-state?"
      ]
    },
    {
      "cell_type": "code",
      "metadata": {
        "id": "F_9LtgXXqlW5",
        "colab_type": "code",
        "colab": {}
      },
      "source": [
        "SIGMA = 3  # What is this supposed to be?\n",
        "PARAMS = BETA, SIGMA, NVEC, L, A, ALPHA, DELTA\n",
        "SS_TOL = 1e-10"
      ],
      "execution_count": 147,
      "outputs": []
    },
    {
      "cell_type": "code",
      "metadata": {
        "id": "US7364VgQose",
        "colab_type": "code",
        "colab": {
          "base_uri": "https://localhost:8080/",
          "height": 203
        },
        "outputId": "e20d9bb5-f01d-4877-90cc-97787f3b26e8"
      },
      "source": [
        "get_SS(PARAMS + (SS_TOL,), [0.1, 0.1], False)"
      ],
      "execution_count": 148,
      "outputs": [
        {
          "output_type": "execute_result",
          "data": {
            "text/plain": [
              "{'C_ss': 0.6329006729395864,\n",
              " 'EulErr_ss': array([-1.39266376e-12,  2.62900812e-12]),\n",
              " 'K_ss': 0.07772362575316386,\n",
              " 'RCerr_ss': 8.326672684688674e-17,\n",
              " 'Y_ss': 0.6827603788602411,\n",
              " 'b_ss': array([0.01931253, 0.0584111 ]),\n",
              " 'c_ss': (0.18241212755849867, 0.20961468030898922, 0.24087386507209851),\n",
              " 'r_ss': 2.433062339127069,\n",
              " 'ss_time': 0.0012659999999993232,\n",
              " 'w_ss': 0.20172465739052575}"
            ]
          },
          "metadata": {
            "tags": []
          },
          "execution_count": 148
        }
      ]
    },
    {
      "cell_type": "markdown",
      "metadata": {
        "id": "gi0jK9EyQpRS",
        "colab_type": "text"
      },
      "source": [
        "### 2.2b\n",
        "\n",
        "Generate a figure that shows the steady-state distribution of consumption and savings by age ${\\bar{c}_s}_{s=1}^3$ and ${\\bar{b}_s}_{s=2}^3$."
      ]
    },
    {
      "cell_type": "code",
      "metadata": {
        "id": "nWjj_KOAQxS4",
        "colab_type": "code",
        "colab": {
          "base_uri": "https://localhost:8080/",
          "height": 726
        },
        "outputId": "1e57d158-ff56-4a68-ae61-cb6ff9574ad0"
      },
      "source": [
        "get_SS(PARAMS + (SS_TOL,), [0.1, 0.1], True)"
      ],
      "execution_count": 149,
      "outputs": [
        {
          "output_type": "display_data",
          "data": {
            "image/png": "[encoded data removed]",
            "text/plain": [
              "<Figure size 432x288 with 1 Axes>"
            ]
          },
          "metadata": {
            "tags": [],
            "needs_background": "light"
          }
        },
        {
          "output_type": "display_data",
          "data": {
            "image/png": "[encoded data removed]",
            "text/plain": [
              "<Figure size 432x288 with 1 Axes>"
            ]
          },
          "metadata": {
            "tags": [],
            "needs_background": "light"
          }
        },
        {
          "output_type": "execute_result",
          "data": {
            "text/plain": [
              "{'C_ss': 0.6329006729395864,\n",
              " 'EulErr_ss': array([-1.39266376e-12,  2.62900812e-12]),\n",
              " 'K_ss': 0.07772362575316386,\n",
              " 'RCerr_ss': 8.326672684688674e-17,\n",
              " 'Y_ss': 0.6827603788602411,\n",
              " 'b_ss': array([0.01931253, 0.0584111 ]),\n",
              " 'c_ss': (0.18241212755849867, 0.20961468030898922, 0.24087386507209851),\n",
              " 'r_ss': 2.433062339127069,\n",
              " 'ss_time': 0.0009220000000009776,\n",
              " 'w_ss': 0.20172465739052575}"
            ]
          },
          "metadata": {
            "tags": []
          },
          "execution_count": 149
        }
      ]
    },
    {
      "cell_type": "markdown",
      "metadata": {
        "id": "b_OjBkBRQxrd",
        "colab_type": "text"
      },
      "source": [
        "### 2.2c\n",
        "\n",
        "What happens to each of these steady-state values if all households become more patient\n",
        "$\\beta \\uparrow$\n",
        "(an example would be $\\beta = 0.55$)?\n",
        "That is, in what direction does $\\beta \\uparrow$\n",
        "move each steady-state value? What is the intuition?\n",
        "\n",
        "*Capital, consumption, and wages rise; interest rate falls.*"
      ]
    },
    {
      "cell_type": "code",
      "metadata": {
        "id": "Fb6YekrvTPYa",
        "colab_type": "code",
        "colab": {
          "base_uri": "https://localhost:8080/",
          "height": 726
        },
        "outputId": "09bc4c01-d874-405b-b541-3e9ee7c18c3e"
      },
      "source": [
        "BETA = 0.55\n",
        "PARAMS = BETA, SIGMA, NVEC, L, A, ALPHA, DELTA\n",
        "get_SS(PARAMS + (SS_TOL,), [0.1, 0.1], True)"
      ],
      "execution_count": 150,
      "outputs": [
        {
          "output_type": "display_data",
          "data": {
            "image/png": "[encoded data removed]",
            "text/plain": [
              "<Figure size 432x288 with 1 Axes>"
            ]
          },
          "metadata": {
            "tags": [],
            "needs_background": "light"
          }
        },
        {
          "output_type": "display_data",
          "data": {
            "image/png": "[encoded data removed]",
            "text/plain": [
              "<Figure size 432x288 with 1 Axes>"
            ]
          },
          "metadata": {
            "tags": [],
            "needs_background": "light"
          }
        },
        {
          "output_type": "execute_result",
          "data": {
            "text/plain": [
              "{'C_ss': 0.6912842903551415,\n",
              " 'EulErr_ss': array([ 5.68434189e-14, -2.84217094e-14]),\n",
              " 'K_ss': 0.10504237022597478,\n",
              " 'RCerr_ss': 1.3877787807814457e-17,\n",
              " 'Y_ss': 0.7586689708551043,\n",
              " 'b_ss': array([0.02817692, 0.07686545]),\n",
              " 'c_ss': (0.19597527701928266, 0.22861594138399466, 0.2666930719518642),\n",
              " 'r_ss': 1.8863765057190747,\n",
              " 'ss_time': 0.0007549999999998391,\n",
              " 'w_ss': 0.22415219593446262}"
            ]
          },
          "metadata": {
            "tags": []
          },
          "execution_count": 150
        }
      ]
    },
    {
      "cell_type": "markdown",
      "metadata": {
        "id": "-g19qFa0UMJu",
        "colab_type": "text"
      },
      "source": [
        "## 2.3\n",
        "\n",
        "Use time path iteration (TPI) to solve for the non-steady state equilibrium transition path of the economy from $(b_{2,1},b_{3,1})=(0.8 \\bar{b}_2, 1.1\\bar{b}_3)$ to the steady-state $(\\bar{b}_2, \\bar{b}_3)$.\n",
        "You'll have to choose a guess for $T$ and a time path updating parameter $\\xi \\in (0,1)$,\n",
        "but I can assure you that $T<50$.\n",
        "Use an $L^2$ norm for your distance measure\n",
        "(sum of squared percent deviations),\n",
        "and use a convergence parameter of $\\epsilon=10^{-9}$.\n",
        "Use a linear initial guess for the time path of the\n",
        "aggregate capital stock from the initial state\n",
        "$K_1^1$ to the steady state $K_T^1$ at time $T$."
      ]
    },
    {
      "cell_type": "code",
      "metadata": {
        "id": "YCdCtooU3icP",
        "colab_type": "code",
        "colab": {}
      },
      "source": [
        "def b_3_2_opt_fun(b_3_2, bvec, Kpath, beta, sigma, nvec, L, A, alpha, delta):\n",
        "    \"\"\" Function to root-find to get steady-state solution.\n",
        "\n",
        "    Args:\n",
        "        b_3_2: Savings of middle-aged s=2 for the last period of his life.\n",
        "        bvec: Initial savings [b_2_1, b_3_1].\n",
        "        Kpath: Transition path of aggregate capital.\n",
        "        beta:\n",
        "        sigma:\n",
        "        nvec:\n",
        "        L:\n",
        "        A:\n",
        "        alpha:\n",
        "        delta:\n",
        "\n",
        "    Returns:\n",
        "        Euler error.\n",
        "    \"\"\"\n",
        "    # # (nvec, A, alpha, delta\n",
        "    # if infeasible((nvec, A, alpha, delta), bvec):\n",
        "    #     return [100, 100]\n",
        "    b_2_1, b_3_1 = bvec\n",
        "    n_1, n_2, n_3 = nvec\n",
        "    w = wpath(Kpath, alpha, A, n)\n",
        "    r = rpath(Kpath, alpha, A, n, delta)\n",
        "    lhs = du_crra(n_2 * w[0] + (1 + r[0]) * b_2_1 - b_3_2, sigma)\n",
        "    rhs = beta * (1 + r[1]) * du_crra((1 + r[2] * b_3_2 + n_2 * w[1]), sigma)\n",
        "    return [lhs - rhs]"
      ],
      "execution_count": 151,
      "outputs": []
    },
    {
      "cell_type": "code",
      "metadata": {
        "id": "jy_PGKgRCTYT",
        "colab_type": "code",
        "colab": {
          "base_uri": "https://localhost:8080/",
          "height": 35
        },
        "outputId": "6b2b1cd2-58ca-4aa9-d4e6-1ae04434392b"
      },
      "source": [
        "PARAMS"
      ],
      "execution_count": 153,
      "outputs": [
        {
          "output_type": "execute_result",
          "data": {
            "text/plain": [
              "(0.55, 3, [1, 1, 0.2], 2.2, 1, 0.35, 0.6415)"
            ]
          },
          "metadata": {
            "tags": []
          },
          "execution_count": 153
        }
      ]
    },
    {
      "cell_type": "code",
      "metadata": {
        "id": "3GwDEh4NCN45",
        "colab_type": "code",
        "colab": {}
      },
      "source": [
        "opt.root(b_3_2_opt_fun, 0.1, [bvec, Kpath, beta, sigma, nvec, L, A, alpha, delta], tol=SS_tol)"
      ],
      "execution_count": null,
      "outputs": []
    },
    {
      "cell_type": "code",
      "metadata": {
        "id": "zrG31WC7Vqhw",
        "colab_type": "code",
        "colab": {}
      },
      "source": [
        "# Solve b_{3,2} via equation 2.31.\n",
        "def tpi_b_3_2(b_3_2_guess, bvec, Kpath, beta, sigma, nvec, L, A, alpha, delta,\n",
        "              tol):\n",
        "    return opt.root(b_3_2_opt_fun, b_3_2_guess,\n",
        "                    (bvec, Kpath, beta, sigma, nvec, L, A, alpha, delta),\n",
        "                    tol=tol)"
      ],
      "execution_count": 155,
      "outputs": []
    },
    {
      "cell_type": "code",
      "metadata": {
        "id": "H__Nv6rZC6m2",
        "colab_type": "code",
        "colab": {}
      },
      "source": [
        "tpi_b_3_2(0.1, )"
      ],
      "execution_count": null,
      "outputs": []
    },
    {
      "cell_type": "code",
      "metadata": {
        "id": "4NsTLQ2dovbp",
        "colab_type": "code",
        "colab": {}
      },
      "source": [
        "# Solve b_{2,2} and b{3,3} for initial young s=1 agent at period 1 using\n",
        "# equations 2.32 and 2.33.\n",
        "def tpi_b_2_2_b_3_3(n_1, w_1, beta, r_2, n_2, w_2, r_3, n_3, w_3):\n",
        "    b_2_2, b_3_3 = 0, 0  # Initialize before optimizing.\n",
        "    lhs_2_32 = du_crra(n_1 * w_1 - b_2_2)\n",
        "    rhs_2_32"
      ],
      "execution_count": null,
      "outputs": []
    }
  ]
}